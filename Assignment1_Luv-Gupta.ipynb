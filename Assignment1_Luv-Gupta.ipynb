{
  "nbformat": 4,
  "nbformat_minor": 0,
  "metadata": {
    "colab": {
      "provenance": [],
      "authorship_tag": "ABX9TyMlG5E0Fgf/Iu+T/x70IL2c",
      "include_colab_link": true
    },
    "kernelspec": {
      "name": "python3",
      "display_name": "Python 3"
    },
    "language_info": {
      "name": "python"
    }
  },
  "cells": [
    {
      "cell_type": "markdown",
      "metadata": {
        "id": "view-in-github",
        "colab_type": "text"
      },
      "source": [
        "<a href=\"https://colab.research.google.com/github/Luv-Gupta13/BCS_Luv_Gupta/blob/main/Assignment1_Luv-Gupta.ipynb\" target=\"_parent\"><img src=\"https://colab.research.google.com/assets/colab-badge.svg\" alt=\"Open In Colab\"/></a>"
      ]
    },
    {
      "cell_type": "code",
      "execution_count": 3,
      "metadata": {
        "id": "MWN2_DdYhPjD"
      },
      "outputs": [],
      "source": [
        "import pandas as pd\n",
        "import numpy as np\n"
      ]
    },
    {
      "cell_type": "code",
      "source": [
        "# Loading the dataset\n",
        "file_path = '/content/sample_data/california_housing_train.csv'\n",
        "df = pd.read_csv(file_path)\n",
        "# Display the first 5 and last 10 rows\n",
        "df.head(5), df.tail(10)\n",
        "\n"
      ],
      "metadata": {
        "colab": {
          "base_uri": "https://localhost:8080/"
        },
        "id": "zt98IoXfhkub",
        "outputId": "cb66cf86-765b-4c1a-eea2-23405020018c"
      },
      "execution_count": 4,
      "outputs": [
        {
          "output_type": "execute_result",
          "data": {
            "text/plain": [
              "(   longitude  latitude  housing_median_age  total_rooms  total_bedrooms  \\\n",
              " 0    -114.31     34.19                15.0       5612.0          1283.0   \n",
              " 1    -114.47     34.40                19.0       7650.0          1901.0   \n",
              " 2    -114.56     33.69                17.0        720.0           174.0   \n",
              " 3    -114.57     33.64                14.0       1501.0           337.0   \n",
              " 4    -114.57     33.57                20.0       1454.0           326.0   \n",
              " \n",
              "    population  households  median_income  median_house_value  \n",
              " 0      1015.0       472.0         1.4936             66900.0  \n",
              " 1      1129.0       463.0         1.8200             80100.0  \n",
              " 2       333.0       117.0         1.6509             85700.0  \n",
              " 3       515.0       226.0         3.1917             73400.0  \n",
              " 4       624.0       262.0         1.9250             65500.0  ,\n",
              "        longitude  latitude  housing_median_age  total_rooms  total_bedrooms  \\\n",
              " 16990    -124.22     41.73                28.0       3003.0           699.0   \n",
              " 16991    -124.23     41.75                11.0       3159.0           616.0   \n",
              " 16992    -124.23     40.81                52.0       1112.0           209.0   \n",
              " 16993    -124.23     40.54                52.0       2694.0           453.0   \n",
              " 16994    -124.25     40.28                32.0       1430.0           419.0   \n",
              " 16995    -124.26     40.58                52.0       2217.0           394.0   \n",
              " 16996    -124.27     40.69                36.0       2349.0           528.0   \n",
              " 16997    -124.30     41.84                17.0       2677.0           531.0   \n",
              " 16998    -124.30     41.80                19.0       2672.0           552.0   \n",
              " 16999    -124.35     40.54                52.0       1820.0           300.0   \n",
              " \n",
              "        population  households  median_income  median_house_value  \n",
              " 16990      1530.0       653.0         1.7038             78300.0  \n",
              " 16991      1343.0       479.0         2.4805             73200.0  \n",
              " 16992       544.0       172.0         3.3462             50800.0  \n",
              " 16993      1152.0       435.0         3.0806            106700.0  \n",
              " 16994       434.0       187.0         1.9417             76100.0  \n",
              " 16995       907.0       369.0         2.3571            111400.0  \n",
              " 16996      1194.0       465.0         2.5179             79000.0  \n",
              " 16997      1244.0       456.0         3.0313            103600.0  \n",
              " 16998      1298.0       478.0         1.9797             85800.0  \n",
              " 16999       806.0       270.0         3.0147             94600.0  )"
            ]
          },
          "metadata": {},
          "execution_count": 4
        }
      ]
    },
    {
      "cell_type": "code",
      "source": [
        "df.describe()\n",
        "#Getting the statistical summary\n",
        "uniquerooms = df['total_bedrooms'].unique()\n",
        "disrooms = len(uniquerooms)\n",
        "#Finding unique values in total bedrooms\n",
        "uniquerooms, disrooms\n"
      ],
      "metadata": {
        "colab": {
          "base_uri": "https://localhost:8080/"
        },
        "id": "DjEz5M-Ghrk1",
        "outputId": "cab6b200-b87d-4bb8-d917-b77a71cc9fdb"
      },
      "execution_count": 5,
      "outputs": [
        {
          "output_type": "execute_result",
          "data": {
            "text/plain": [
              "(array([1283., 1901.,  174., ..., 1637., 1308.,  936.]), 1848)"
            ]
          },
          "metadata": {},
          "execution_count": 5
        }
      ]
    },
    {
      "cell_type": "code",
      "source": [
        "df['total_bedrooms_per_total_rooms'] = df['total_bedrooms'] / df['total_rooms']\n",
        "#Adding the New coloumn and calculating mean and std deviation\n",
        "meanbedrooms = df['total_bedrooms_per_total_rooms'].mean()\n",
        "stdbedrooms = df['total_bedrooms_per_total_rooms'].std()\n",
        "meanbedrooms, stdbedrooms\n"
      ],
      "metadata": {
        "colab": {
          "base_uri": "https://localhost:8080/"
        },
        "id": "aGj1b9fZh4Kk",
        "outputId": "cbea84a4-42c6-4fb2-cfa1-c0fa98de8849"
      },
      "execution_count": 6,
      "outputs": [
        {
          "output_type": "execute_result",
          "data": {
            "text/plain": [
              "(0.21275998821034803, 0.057823008903161756)"
            ]
          },
          "metadata": {},
          "execution_count": 6
        }
      ]
    },
    {
      "cell_type": "code",
      "source": [
        "income = df[df['median_income'] > 5]\n",
        "value = df[(df['total_rooms'] > 10000) & (df['median_house_value'] < 150000)]\n",
        "#Filter median income > 5 and Total rooms >10k and Median house value < 150k\n",
        "income.head(), value.head()\n"
      ],
      "metadata": {
        "colab": {
          "base_uri": "https://localhost:8080/"
        },
        "id": "4of3QZ5PiDVM",
        "outputId": "3568c3fa-b094-497e-e044-c9de364b24ac"
      },
      "execution_count": 7,
      "outputs": [
        {
          "output_type": "execute_result",
          "data": {
            "text/plain": [
              "(     longitude  latitude  housing_median_age  total_rooms  total_bedrooms  \\\n",
              " 32     -115.39     32.76                16.0       1136.0           196.0   \n",
              " 69     -115.55     32.98                33.0       2266.0           365.0   \n",
              " 92     -115.57     32.78                20.0       1534.0           235.0   \n",
              " 98     -115.58     32.78                 5.0       2494.0           414.0   \n",
              " 100    -115.59     32.79                 8.0       2183.0           307.0   \n",
              " \n",
              "      population  households  median_income  median_house_value  \\\n",
              " 32        481.0       185.0         6.2558            146300.0   \n",
              " 69        952.0       360.0         5.4349            143000.0   \n",
              " 92        871.0       222.0         6.2715             97200.0   \n",
              " 98       1416.0       421.0         5.7843            110100.0   \n",
              " 100      1000.0       287.0         6.3814            159900.0   \n",
              " \n",
              "      total_bedrooms_per_total_rooms  \n",
              " 32                         0.172535  \n",
              " 69                         0.161077  \n",
              " 92                         0.153194  \n",
              " 98                         0.165998  \n",
              " 100                        0.140632  ,\n",
              "      longitude  latitude  housing_median_age  total_rooms  total_bedrooms  \\\n",
              " 133    -116.06     34.15                15.0      10377.0          2331.0   \n",
              " 191    -116.36     33.88                11.0      12557.0          3098.0   \n",
              " 198    -116.38     33.73                10.0      11836.0          2405.0   \n",
              " 201    -116.39     33.82                15.0      11115.0          2257.0   \n",
              " 229    -116.47     33.81                 7.0      10105.0          2481.0   \n",
              " \n",
              "      population  households  median_income  median_house_value  \\\n",
              " 133      4507.0      1807.0         2.2466             66800.0   \n",
              " 191      2453.0      1232.0         1.7844             78500.0   \n",
              " 198      3811.0      1570.0         4.0079            134500.0   \n",
              " 201      4122.0      1653.0         2.7219             74400.0   \n",
              " 229      6274.0      2095.0         2.4497             90900.0   \n",
              " \n",
              "      total_bedrooms_per_total_rooms  \n",
              " 133                        0.224631  \n",
              " 191                        0.246715  \n",
              " 198                        0.203194  \n",
              " 201                        0.203059  \n",
              " 229                        0.245522  )"
            ]
          },
          "metadata": {},
          "execution_count": 7
        }
      ]
    },
    {
      "cell_type": "code",
      "source": [
        "#Saving to new csv file\n",
        "new_file_path = '/content/sample_data/california_housing_modified.csv'\n",
        "df.to_csv(new_file_path, index=False)\n"
      ],
      "metadata": {
        "id": "87sTT8SRifwk"
      },
      "execution_count": 8,
      "outputs": []
    },
    {
      "cell_type": "code",
      "source": [
        "array_1_20 = np.arange(1, 21)\n",
        "#creating an array of numbers from 1 to 20\n",
        "array_1_20[array_1_20 % 2 == 0]#slicing"
      ],
      "metadata": {
        "colab": {
          "base_uri": "https://localhost:8080/"
        },
        "id": "mUg5xBufn5vN",
        "outputId": "f2188105-4968-4dfe-f5f6-f7561d539d34"
      },
      "execution_count": 10,
      "outputs": [
        {
          "output_type": "execute_result",
          "data": {
            "text/plain": [
              "array([ 2,  4,  6,  8, 10, 12, 14, 16, 18, 20])"
            ]
          },
          "metadata": {},
          "execution_count": 10
        }
      ]
    },
    {
      "cell_type": "code",
      "source": [
        "RandomArray = np.random.randint(10, 100, size=(5, 4))\n",
        "#creating random array\n",
        "RandomArray[:3, :2]#3X2 subbarray"
      ],
      "metadata": {
        "colab": {
          "base_uri": "https://localhost:8080/"
        },
        "id": "x_6hZX3coXcO",
        "outputId": "0375e9e5-2082-46a8-b18e-ed9aea85106b"
      },
      "execution_count": 11,
      "outputs": [
        {
          "output_type": "execute_result",
          "data": {
            "text/plain": [
              "array([[78, 33],\n",
              "       [97, 58],\n",
              "       [87, 81]])"
            ]
          },
          "metadata": {},
          "execution_count": 11
        }
      ]
    },
    {
      "cell_type": "code",
      "source": [
        "ReshapedArray = array_1_20.reshape(4, 5)\n",
        "FlattenedArray = ReshapedArray.flatten()\n",
        "#reshapping and flatenning the array\n",
        "FlattenedArray\n"
      ],
      "metadata": {
        "colab": {
          "base_uri": "https://localhost:8080/"
        },
        "id": "BKcwyErcooLb",
        "outputId": "14d01f59-3880-4075-a505-4ea06bc925e4"
      },
      "execution_count": 12,
      "outputs": [
        {
          "output_type": "execute_result",
          "data": {
            "text/plain": [
              "array([ 1,  2,  3,  4,  5,  6,  7,  8,  9, 10, 11, 12, 13, 14, 15, 16, 17,\n",
              "       18, 19, 20])"
            ]
          },
          "metadata": {},
          "execution_count": 12
        }
      ]
    },
    {
      "cell_type": "code",
      "source": [
        "RandomMultArray = np.random.randint(1, 100, size=(4, 5))\n",
        "MatrixMultiply = np.dot(RandomArray,RandomMultArray)\n",
        "MatrixMultiply #matrix multiply"
      ],
      "metadata": {
        "colab": {
          "base_uri": "https://localhost:8080/"
        },
        "id": "2JSCaC16qLkD",
        "outputId": "b5565ecb-15f1-4b42-dca5-5699d3a48e19"
      },
      "execution_count": 13,
      "outputs": [
        {
          "output_type": "execute_result",
          "data": {
            "text/plain": [
              "array([[23793, 18961, 16838, 15668, 11939],\n",
              "       [19894, 15955, 18715,  9218,  9841],\n",
              "       [19800, 17795, 17851, 10948,  9871],\n",
              "       [18692, 17081, 14405, 12735,  8154],\n",
              "       [15214, 10162,  9316, 10394,  5348]])"
            ]
          },
          "metadata": {},
          "execution_count": 13
        }
      ]
    },
    {
      "cell_type": "code",
      "source": [
        "RandomArr = np.random.randint(0, 100, size=50)#random array creation\n",
        "RandomArr[RandomArr > 50]#values > 50\n",
        "indices = [2, 12, 17, 29, 39]#fancy indexing\n",
        "RandomArr[indices]"
      ],
      "metadata": {
        "colab": {
          "base_uri": "https://localhost:8080/"
        },
        "id": "mNWJT_51sVmH",
        "outputId": "a186fc2a-11a4-49c5-c0e3-fa24fd66a233"
      },
      "execution_count": 14,
      "outputs": [
        {
          "output_type": "execute_result",
          "data": {
            "text/plain": [
              "array([50, 17, 48, 65, 21])"
            ]
          },
          "metadata": {},
          "execution_count": 14
        }
      ]
    },
    {
      "cell_type": "code",
      "source": [
        "mean = RandomArray.mean(axis=0)\n",
        "max = RandomArray.max(axis=0)\n",
        "sum = RandomArray.sum(axis=0)\n",
        "mask = RandomArray > mean\n",
        "#calculating mean, max, sum and creating a mask\n",
        "mean, max, sum , RandomArray[mask]"
      ],
      "metadata": {
        "colab": {
          "base_uri": "https://localhost:8080/"
        },
        "id": "yykwEeyJPYKC",
        "outputId": "b37df2f8-7108-40f3-b857-1fde4e5bbdaa"
      },
      "execution_count": 18,
      "outputs": [
        {
          "output_type": "execute_result",
          "data": {
            "text/plain": [
              "(array([64.2, 52.4, 50.6, 59. ]),\n",
              " array([97, 81, 74, 97]),\n",
              " array([321, 262, 253, 295]),\n",
              " array([78, 66, 97, 97, 58, 56, 87, 81, 80, 70, 74, 82]))"
            ]
          },
          "metadata": {},
          "execution_count": 18
        }
      ]
    },
    {
      "cell_type": "code",
      "source": [
        "# Fibonacci sequence\n",
        "x, y = 0, 1\n",
        "while x <= 100:\n",
        "    print(y, end=\" \")\n",
        "    x, y = y, x + y"
      ],
      "metadata": {
        "colab": {
          "base_uri": "https://localhost:8080/"
        },
        "id": "aFZ_Dij7PtQC",
        "outputId": "28606f5e-c5e3-4984-ab17-ea75d5d2d1a5"
      },
      "execution_count": 24,
      "outputs": [
        {
          "output_type": "stream",
          "name": "stdout",
          "text": [
            "1 1 2 3 5 8 13 21 34 55 89 144 "
          ]
        }
      ]
    },
    {
      "cell_type": "code",
      "source": [
        "#Fizzbuzz problem\n",
        "for i in range(1, 51):\n",
        "    if i % 3 == 0 and i % 5 == 0: #no. divisible by both 3 and 5\n",
        "        print(\"FizzBuzz\")\n",
        "    elif i % 3 == 0:: # no. divisible only by 3\n",
        "        print(\"Fizz\")\n",
        "    elif i % 5 == 0: # no. divisible only by 5\n",
        "        print(\"Buzz\")\n",
        "    else:\n",
        "        print(i)\n"
      ],
      "metadata": {
        "colab": {
          "base_uri": "https://localhost:8080/"
        },
        "id": "Byk7cNztREX8",
        "outputId": "f35a5588-3298-4c53-d31e-e49bc018fe8c"
      },
      "execution_count": 25,
      "outputs": [
        {
          "output_type": "stream",
          "name": "stdout",
          "text": [
            "1\n",
            "2\n",
            "Fizz\n",
            "4\n",
            "Buzz\n",
            "Fizz\n",
            "7\n",
            "8\n",
            "Fizz\n",
            "Buzz\n",
            "11\n",
            "Fizz\n",
            "13\n",
            "14\n",
            "FizzBuzz\n",
            "16\n",
            "17\n",
            "Fizz\n",
            "19\n",
            "Buzz\n",
            "Fizz\n",
            "22\n",
            "23\n",
            "Fizz\n",
            "Buzz\n",
            "26\n",
            "Fizz\n",
            "28\n",
            "29\n",
            "FizzBuzz\n",
            "31\n",
            "32\n",
            "Fizz\n",
            "34\n",
            "Buzz\n",
            "Fizz\n",
            "37\n",
            "38\n",
            "Fizz\n",
            "Buzz\n",
            "41\n",
            "Fizz\n",
            "43\n",
            "44\n",
            "FizzBuzz\n",
            "46\n",
            "47\n",
            "Fizz\n",
            "49\n",
            "Buzz\n"
          ]
        }
      ]
    },
    {
      "cell_type": "code",
      "source": [
        "#division by zero error\n",
        "try:\n",
        "    result = 10 / 0\n",
        "except ZeroDivisionError:\n",
        "    print(\"Error: Division by zero is not allowed.\")\n",
        "\n"
      ],
      "metadata": {
        "colab": {
          "base_uri": "https://localhost:8080/"
        },
        "id": "vQzwu84tRz4b",
        "outputId": "b6127b07-8e06-46fa-b4c2-f24f066fbf26"
      },
      "execution_count": 39,
      "outputs": [
        {
          "output_type": "stream",
          "name": "stdout",
          "text": [
            "Error: Division by zero is not allowed.\n"
          ]
        }
      ]
    },
    {
      "cell_type": "code",
      "source": [
        "\n",
        "def Median(numbers):\n",
        "    numbers.sort()\n",
        "    n = len(numbers)\n",
        "    if n % 2 == 0:\n",
        "        return ((numbers[n // 2 - 1])+numbers[n // 2])/ 2\n",
        "    else:\n",
        "        return numbers[n // 2]\n",
        "\n",
        "Input = input(\"Enter numbers\")\n",
        "numbers = Input.split()\n",
        "numbers = [float(num) for num in numbers]\n",
        "median = Median(numbers)\n",
        "print(\"Median:\", median)\n",
        "\n"
      ],
      "metadata": {
        "colab": {
          "base_uri": "https://localhost:8080/"
        },
        "id": "T6ORVH8OWaCV",
        "outputId": "92749737-31c1-4df3-a13c-360ee06d5603"
      },
      "execution_count": 38,
      "outputs": [
        {
          "output_type": "stream",
          "name": "stdout",
          "text": [
            "Enter numbers1 2 3 4\n",
            "Median: 2.5\n"
          ]
        }
      ]
    }
  ]
}